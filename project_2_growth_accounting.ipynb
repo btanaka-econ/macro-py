{
 "cells": [
  {
   "cell_type": "code",
   "execution_count": 1,
   "metadata": {},
   "outputs": [],
   "source": [
    "import pandas as pd\n",
    "import numpy as np"
   ]
  },
  {
   "cell_type": "code",
   "execution_count": 2,
   "metadata": {},
   "outputs": [],
   "source": [
    "pwt90 = pd.read_stata('https://www.rug.nl/ggdc/docs/pwt90.dta')\n",
    "\n",
    "oecd_countries = [\n",
    "    'Australia','Austria','Belgium','Canada','Denmark','Finland','France',\n",
    "    'Germany','Greece','Iceland','Ireland','Italy','Japan','Netherlands',\n",
    "    'New Zealand','Norway','Portugal','Spain','Sweden','Switzerland',\n",
    "    'United Kingdom','United States',\n",
    "]"
   ]
  },
  {
   "cell_type": "code",
   "execution_count": 3,
   "metadata": {},
   "outputs": [],
   "source": [
    "start = 1990\n",
    "end   = 2019\n",
    "\n",
    "data = pwt90[\n",
    "    pwt90['country'].isin(oecd_countries) &\n",
    "    pwt90['year'].between(start, end)\n",
    "]\n",
    "\n",
    "relevant_cols = [\n",
    "    'countrycode','country','year',\n",
    "    'rgdpna','rkna','pop','emp','avh','labsh','rtfpna'\n",
    "]\n",
    "data = data[relevant_cols].dropna()"
   ]
  },
  {
   "cell_type": "code",
   "execution_count": 4,
   "metadata": {},
   "outputs": [],
   "source": [
    "# Labor input in hours\n",
    "L = data[\"emp\"] * data[\"avh\"]\n",
    "\n",
    "# Output & capital per hour worked\n",
    "data['y'] = data['rgdpna'] / L\n",
    "data['k'] = data['rkna']   / L\n"
   ]
  },
  {
   "cell_type": "code",
   "execution_count": 5,
   "metadata": {},
   "outputs": [],
   "source": [
    "def annual_log_growth(group, col):\n",
    "    years = group['year'].values\n",
    "    # choose 1990–2019 if available, otherwise use actual min/max years\n",
    "    if (start in years) and (end in years):\n",
    "        y0, yT = start, end\n",
    "    else:\n",
    "        y0, yT = years.min(), years.max()\n",
    "    v0 = group.loc[group['year'] == y0, col].values[0]\n",
    "    vT = group.loc[group['year'] == yT, col].values[0]\n",
    "    g  = 100.0 * (np.log(vT) - np.log(v0)) / (yT - y0)\n",
    "    return g, y0, yT"
   ]
  },
  {
   "cell_type": "code",
   "execution_count": 6,
   "metadata": {},
   "outputs": [],
   "source": [
    "results = []\n",
    "for country, g in data.groupby('country'):\n",
    "    # compute growth rates (with fallback to actual start/end)\n",
    "    g_y, y0, yT = annual_log_growth(g, 'y')\n",
    "    g_k, _, _   = annual_log_growth(g, 'k')\n",
    "\n",
    "    # α = 1 − labor share averaged over the whole period\n",
    "    alpha_avg = 1.0 - g['labsh'].mean()\n",
    "\n",
    "    # decompose growth\n",
    "    cap_deepen = alpha_avg * g_k\n",
    "    tfp_g      = g_y - cap_deepen\n",
    "\n",
    "    # compute shares\n",
    "    tfp_share = tfp_g / g_y if g_y != 0 else np.nan\n",
    "    cap_share = cap_deepen / g_y if g_y != 0 else np.nan\n",
    "\n",
    "    results.append({\n",
    "        'Country':           country,\n",
    "        'Start_Year':        y0,\n",
    "        'End_Year':          yT,\n",
    "        'Growth_Rate':       round(g_y, 2),\n",
    "        'TFP_Growth':        round(tfp_g, 2),\n",
    "        'Capital_Deepening': round(cap_deepen, 2),\n",
    "        'TFP_Share':         round(tfp_share, 2),\n",
    "        'Capital_Share':     round(cap_share, 2),\n",
    "    })\n"
   ]
  },
  {
   "cell_type": "code",
   "execution_count": 7,
   "metadata": {},
   "outputs": [],
   "source": [
    "# Build final table\n",
    "table = pd.DataFrame(results).sort_values('Country').reset_index(drop=True)"
   ]
  },
  {
   "cell_type": "code",
   "execution_count": 8,
   "metadata": {},
   "outputs": [],
   "source": [
    "# Add OECD average row\n",
    "avg = {\n",
    "    'Country':           'Average',\n",
    "    'Start_Year':        '',\n",
    "    'End_Year':          '',\n",
    "    'Growth_Rate':       round(table['Growth_Rate'].mean(), 2),\n",
    "    'TFP_Growth':        round(table['TFP_Growth'].mean(), 2),\n",
    "    'Capital_Deepening': round(table['Capital_Deepening'].mean(), 2),\n",
    "    'TFP_Share':         round(table['TFP_Share'].mean(), 2),\n",
    "    'Capital_Share':     round(table['Capital_Share'].mean(), 2),\n",
    "}\n",
    "table = pd.concat([table, pd.DataFrame([avg])], ignore_index=True)"
   ]
  },
  {
   "cell_type": "code",
   "execution_count": 9,
   "metadata": {},
   "outputs": [
    {
     "name": "stdout",
     "output_type": "stream",
     "text": [
      "Growth Accounting in OECD Countries: 1990-2019 period\n",
      "|    | Country        | Start_Year   | End_Year   |   Growth_Rate |   TFP_Growth |   Capital_Deepening |   TFP_Share |   Capital_Share |\n",
      "|---:|:---------------|:-------------|:-----------|--------------:|-------------:|--------------------:|------------:|----------------:|\n",
      "|  0 | Australia      | 1990         | 2014       |          1.63 |         0.92 |                0.72 |        0.56 |            0.44 |\n",
      "|  1 | Austria        | 1990         | 2014       |          1.46 |         0.66 |                0.8  |        0.45 |            0.55 |\n",
      "|  2 | Belgium        | 1990         | 2014       |          0.93 |         0.29 |                0.64 |        0.31 |            0.69 |\n",
      "|  3 | Canada         | 1990         | 2014       |          1.17 |         0.47 |                0.7  |        0.4  |            0.6  |\n",
      "|  4 | Denmark        | 1990         | 2014       |          1.26 |         0.63 |                0.63 |        0.5  |            0.5  |\n",
      "|  5 | Finland        | 1990         | 2014       |          1.74 |         0.94 |                0.8  |        0.54 |            0.46 |\n",
      "|  6 | France         | 1990         | 2014       |          1.43 |         0.62 |                0.82 |        0.43 |            0.57 |\n",
      "|  7 | Germany        | 1990         | 2014       |          1.72 |         0.92 |                0.8  |        0.54 |            0.46 |\n",
      "|  8 | Greece         | 1990         | 2014       |          1.13 |         0.14 |                0.99 |        0.12 |            0.88 |\n",
      "|  9 | Iceland        | 1990         | 2014       |          1.65 |         1.26 |                0.39 |        0.76 |            0.24 |\n",
      "| 10 | Ireland        | 1990         | 2014       |          3.48 |         1.74 |                1.73 |        0.5  |            0.5  |\n",
      "| 11 | Italy          | 1990         | 2014       |          0.78 |        -0.12 |                0.91 |       -0.16 |            1.16 |\n",
      "| 12 | Japan          | 1990         | 2014       |          1.5  |        -0.06 |                1.57 |       -0.04 |            1.04 |\n",
      "| 13 | Netherlands    | 1990         | 2014       |          1.05 |         0.59 |                0.46 |        0.56 |            0.44 |\n",
      "| 14 | New Zealand    | 1990         | 2014       |          0.9  |         0.5  |                0.4  |        0.56 |            0.44 |\n",
      "| 15 | Norway         | 1990         | 2014       |          1.45 |         0.72 |                0.72 |        0.5  |            0.5  |\n",
      "| 16 | Portugal       | 1990         | 2014       |          1.74 |         0.54 |                1.21 |        0.31 |            0.69 |\n",
      "| 17 | Spain          | 1990         | 2014       |          1.08 |         0.08 |                1.01 |        0.07 |            0.93 |\n",
      "| 18 | Sweden         | 1990         | 2014       |          1.73 |         1.23 |                0.5  |        0.71 |            0.29 |\n",
      "| 19 | Switzerland    | 1990         | 2014       |          0.78 |         0.29 |                0.49 |        0.37 |            0.63 |\n",
      "| 20 | United Kingdom | 1990         | 2014       |          1.58 |         1.11 |                0.47 |        0.7  |            0.3  |\n",
      "| 21 | United States  | 1990         | 2014       |          1.71 |         1.08 |                0.63 |        0.63 |            0.37 |\n",
      "| 22 | Average        |              |            |          1.45 |         0.66 |                0.79 |        0.42 |            0.58 |\n"
     ]
    }
   ],
   "source": [
    "# Display\n",
    "print(f\"Growth Accounting in OECD Countries: {start}-{end} period\")\n",
    "print(table.to_markdown(index=True))"
   ]
  }
 ],
 "metadata": {
  "kernelspec": {
   "display_name": "Python 3",
   "language": "python",
   "name": "python3"
  },
  "language_info": {
   "codemirror_mode": {
    "name": "ipython",
    "version": 3
   },
   "file_extension": ".py",
   "mimetype": "text/x-python",
   "name": "python",
   "nbconvert_exporter": "python",
   "pygments_lexer": "ipython3",
   "version": "3.12.4"
  }
 },
 "nbformat": 4,
 "nbformat_minor": 2
}
